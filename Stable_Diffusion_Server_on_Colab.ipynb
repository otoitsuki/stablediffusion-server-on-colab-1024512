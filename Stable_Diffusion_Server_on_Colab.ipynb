{
  "cells": [
    {
      "cell_type": "markdown",
      "metadata": {
        "colab_type": "text",
        "id": "view-in-github"
      },
      "source": [
        "<a href=\"https://colab.research.google.com/github/motemen/stablediffusion-server-on-colab/blob/main/Stable_Diffusion_Server_on_Colab.ipynb\" target=\"_parent\"><img src=\"https://colab.research.google.com/assets/colab-badge.svg\" alt=\"Open In Colab\"/></a>"
      ]
    },
    {
      "cell_type": "markdown",
      "metadata": {
        "id": "9fwwtCIXgkzw"
      },
      "source": [
        "# Stable Diffusion Server on Colab\n",
        "\n",
        "This notebook serves a simple [Stable Diffusion](https://huggingface.co/blog/stable_diffusion) server upon Google Colaboratry for ease of generation tries."
      ]
    },
    {
      "cell_type": "markdown",
      "metadata": {
        "id": "PRUZOFK1gWpF"
      },
      "source": [
        "## Code Setup"
      ]
    },
    {
      "cell_type": "code",
      "execution_count": null,
      "metadata": {
        "id": "Wa5RXeo0fw8A"
      },
      "outputs": [],
      "source": [
        "!git clone https://github.com/otoitsuki/stablediffusion-server-on-colab-1024512.git"
      ]
    },
    {
      "cell_type": "code",
      "execution_count": null,
      "metadata": {
        "id": "3y7qwzJNf5th"
      },
      "outputs": [],
      "source": [
        "%cd stablediffusion-server-on-colab-1024512"
      ]
    },
    {
      "cell_type": "code",
      "execution_count": null,
      "metadata": {
        "id": "Pz8V5t27f7PG"
      },
      "outputs": [],
      "source": [
        "!pip install -r requirements.txt"
      ]
    },
    {
      "cell_type": "code",
      "execution_count": null,
      "metadata": {
        "id": "ERO31DRqf9Gw"
      },
      "outputs": [],
      "source": [
        "!npm install"
      ]
    },
    {
      "cell_type": "code",
      "execution_count": null,
      "metadata": {
        "id": "GPeSb4FviqCZ"
      },
      "outputs": [],
      "source": [
        "!npm run build"
      ]
    },
    {
      "cell_type": "markdown",
      "metadata": {
        "id": "SbSbtDcwgS_Q"
      },
      "source": [
        "## Configuration"
      ]
    },
    {
      "cell_type": "code",
      "execution_count": null,
      "metadata": {
        "id": "3t1dYF3ygBo3"
      },
      "outputs": [],
      "source": [
        "huggingface_token = \"\" # @param {\"type\":\"string\"}"
      ]
    },
    {
      "cell_type": "code",
      "execution_count": null,
      "metadata": {
        "id": "SbGN4x9JgIL5"
      },
      "outputs": [],
      "source": [
        "port = 5000"
      ]
    },
    {
      "cell_type": "markdown",
      "metadata": {
        "id": "DlkNI-p5gZwN"
      },
      "source": [
        "## Start Server"
      ]
    },
    {
      "cell_type": "code",
      "execution_count": null,
      "metadata": {
        "id": "xBP9CsHigOeV"
      },
      "outputs": [],
      "source": [
        "from google.colab import output\n",
        "output.serve_kernel_port_as_window(port)"
      ]
    },
    {
      "cell_type": "code",
      "execution_count": null,
      "metadata": {
        "id": "05Qy_9C4gJcS"
      },
      "outputs": [],
      "source": [
        "!HF_TOKEN=\"$huggingface_token\" flask run --port $port"
      ]
    }
  ],
  "metadata": {
    "accelerator": "GPU",
    "colab": {
      "authorship_tag": "ABX9TyN4Tks1Wszu2EYwsBE6dNAk",
      "collapsed_sections": [],
      "include_colab_link": true,
      "name": "Stable Diffusion Server on Colab",
      "provenance": []
    },
    "gpuClass": "standard",
    "kernelspec": {
      "display_name": "Python 3",
      "name": "python3"
    },
    "language_info": {
      "name": "python"
    }
  },
  "nbformat": 4,
  "nbformat_minor": 0
}
